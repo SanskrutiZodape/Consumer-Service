{
 "cells": [
  {
   "cell_type": "code",
   "execution_count": 1,
   "metadata": {},
   "outputs": [],
   "source": [
    "import warnings\n",
    "warnings.filterwarnings('ignore')\n",
    "import pandas as pd\n",
    "import math\n",
    "from sklearn.model_selection import train_test_split\n",
    "from sklearn.model_selection import KFold\n",
    "import numpy as np"
   ]
  },
  {
   "cell_type": "code",
   "execution_count": 2,
   "metadata": {},
   "outputs": [],
   "source": [
    "datafile_train=r'\\Users\\91878\\Downloads\\Consumer_Complaints_train.csv'\n",
    "datafile_test=r'\\Users\\91878\\Downloads\\Consumer_Complaints_test_share.csv'\n",
    "\n",
    "cd_train=pd.read_csv(datafile_train)\n",
    "cd_test=pd.read_csv(datafile_test)"
   ]
  },
  {
   "cell_type": "code",
   "execution_count": 3,
   "metadata": {},
   "outputs": [],
   "source": [
    "cd_test['Consumer disputed?']=np.nan\n",
    "cd_train['data']='train'\n",
    "cd_test['data']='test'\n",
    "cd_all=pd.concat([cd_train,cd_test],axis=0)"
   ]
  },
  {
   "cell_type": "code",
   "execution_count": 5,
   "metadata": {},
   "outputs": [
    {
     "data": {
      "text/html": [
       "<div>\n",
       "<style scoped>\n",
       "    .dataframe tbody tr th:only-of-type {\n",
       "        vertical-align: middle;\n",
       "    }\n",
       "\n",
       "    .dataframe tbody tr th {\n",
       "        vertical-align: top;\n",
       "    }\n",
       "\n",
       "    .dataframe thead th {\n",
       "        text-align: right;\n",
       "    }\n",
       "</style>\n",
       "<table border=\"1\" class=\"dataframe\">\n",
       "  <thead>\n",
       "    <tr style=\"text-align: right;\">\n",
       "      <th></th>\n",
       "      <th>Date received</th>\n",
       "      <th>Product</th>\n",
       "      <th>Sub-product</th>\n",
       "      <th>Issue</th>\n",
       "      <th>Sub-issue</th>\n",
       "      <th>Consumer complaint narrative</th>\n",
       "      <th>Company public response</th>\n",
       "      <th>Company</th>\n",
       "      <th>State</th>\n",
       "      <th>ZIP code</th>\n",
       "      <th>Tags</th>\n",
       "      <th>Consumer consent provided?</th>\n",
       "      <th>Submitted via</th>\n",
       "      <th>Date sent to company</th>\n",
       "      <th>Company response to consumer</th>\n",
       "      <th>Timely response?</th>\n",
       "      <th>Consumer disputed?</th>\n",
       "      <th>Complaint ID</th>\n",
       "      <th>data</th>\n",
       "    </tr>\n",
       "  </thead>\n",
       "  <tbody>\n",
       "    <tr>\n",
       "      <th>119601</th>\n",
       "      <td>2012-09-15</td>\n",
       "      <td>Credit card</td>\n",
       "      <td>NaN</td>\n",
       "      <td>Closing/Cancelling account</td>\n",
       "      <td>NaN</td>\n",
       "      <td>NaN</td>\n",
       "      <td>NaN</td>\n",
       "      <td>JPMorgan Chase &amp; Co.</td>\n",
       "      <td>IL</td>\n",
       "      <td>60538</td>\n",
       "      <td>NaN</td>\n",
       "      <td>NaN</td>\n",
       "      <td>Web</td>\n",
       "      <td>2012-09-21</td>\n",
       "      <td>Closed with monetary relief</td>\n",
       "      <td>Yes</td>\n",
       "      <td>NaN</td>\n",
       "      <td>153482</td>\n",
       "      <td>test</td>\n",
       "    </tr>\n",
       "    <tr>\n",
       "      <th>119602</th>\n",
       "      <td>2016-07-21</td>\n",
       "      <td>Credit reporting</td>\n",
       "      <td>NaN</td>\n",
       "      <td>Credit reporting company's investigation</td>\n",
       "      <td>No notice of investigation status/result</td>\n",
       "      <td>On XXXX/XXXX/16 a dispute and validation of a ...</td>\n",
       "      <td>Company has responded to the consumer and the ...</td>\n",
       "      <td>Experian</td>\n",
       "      <td>CA</td>\n",
       "      <td>956XX</td>\n",
       "      <td>NaN</td>\n",
       "      <td>Consent provided</td>\n",
       "      <td>Web</td>\n",
       "      <td>2016-07-21</td>\n",
       "      <td>Closed with explanation</td>\n",
       "      <td>Yes</td>\n",
       "      <td>NaN</td>\n",
       "      <td>2023523</td>\n",
       "      <td>test</td>\n",
       "    </tr>\n",
       "    <tr>\n",
       "      <th>119603</th>\n",
       "      <td>2015-06-09</td>\n",
       "      <td>Debt collection</td>\n",
       "      <td>Other (i.e. phone, health club, etc.)</td>\n",
       "      <td>Disclosure verification of debt</td>\n",
       "      <td>Not given enough info to verify debt</td>\n",
       "      <td>NaN</td>\n",
       "      <td>Company chooses not to provide a public response</td>\n",
       "      <td>FAIR COLLECTIONS &amp; OUTSOURCING, INC.</td>\n",
       "      <td>CA</td>\n",
       "      <td>90803</td>\n",
       "      <td>Servicemember</td>\n",
       "      <td>NaN</td>\n",
       "      <td>Phone</td>\n",
       "      <td>2015-06-12</td>\n",
       "      <td>Closed with explanation</td>\n",
       "      <td>Yes</td>\n",
       "      <td>NaN</td>\n",
       "      <td>1413678</td>\n",
       "      <td>test</td>\n",
       "    </tr>\n",
       "    <tr>\n",
       "      <th>119604</th>\n",
       "      <td>2014-02-26</td>\n",
       "      <td>Debt collection</td>\n",
       "      <td>Credit card</td>\n",
       "      <td>Disclosure verification of debt</td>\n",
       "      <td>Not given enough info to verify debt</td>\n",
       "      <td>NaN</td>\n",
       "      <td>NaN</td>\n",
       "      <td>Encore Capital Group</td>\n",
       "      <td>PA</td>\n",
       "      <td>17764</td>\n",
       "      <td>NaN</td>\n",
       "      <td>NaN</td>\n",
       "      <td>Phone</td>\n",
       "      <td>2014-02-27</td>\n",
       "      <td>Closed with explanation</td>\n",
       "      <td>Yes</td>\n",
       "      <td>NaN</td>\n",
       "      <td>732458</td>\n",
       "      <td>test</td>\n",
       "    </tr>\n",
       "    <tr>\n",
       "      <th>119605</th>\n",
       "      <td>2015-02-11</td>\n",
       "      <td>Debt collection</td>\n",
       "      <td>Other (i.e. phone, health club, etc.)</td>\n",
       "      <td>Cont'd attempts collect debt not owed</td>\n",
       "      <td>Debt is not mine</td>\n",
       "      <td>NaN</td>\n",
       "      <td>NaN</td>\n",
       "      <td>AllianceOne Recievables Management</td>\n",
       "      <td>CA</td>\n",
       "      <td>92103</td>\n",
       "      <td>NaN</td>\n",
       "      <td>NaN</td>\n",
       "      <td>Web</td>\n",
       "      <td>2015-02-11</td>\n",
       "      <td>Closed with explanation</td>\n",
       "      <td>Yes</td>\n",
       "      <td>NaN</td>\n",
       "      <td>1235226</td>\n",
       "      <td>test</td>\n",
       "    </tr>\n",
       "  </tbody>\n",
       "</table>\n",
       "</div>"
      ],
      "text/plain": [
       "       Date received           Product                            Sub-product  \\\n",
       "119601    2012-09-15       Credit card                                    NaN   \n",
       "119602    2016-07-21  Credit reporting                                    NaN   \n",
       "119603    2015-06-09   Debt collection  Other (i.e. phone, health club, etc.)   \n",
       "119604    2014-02-26   Debt collection                            Credit card   \n",
       "119605    2015-02-11   Debt collection  Other (i.e. phone, health club, etc.)   \n",
       "\n",
       "                                           Issue  \\\n",
       "119601                Closing/Cancelling account   \n",
       "119602  Credit reporting company's investigation   \n",
       "119603           Disclosure verification of debt   \n",
       "119604           Disclosure verification of debt   \n",
       "119605     Cont'd attempts collect debt not owed   \n",
       "\n",
       "                                       Sub-issue  \\\n",
       "119601                                       NaN   \n",
       "119602  No notice of investigation status/result   \n",
       "119603      Not given enough info to verify debt   \n",
       "119604      Not given enough info to verify debt   \n",
       "119605                          Debt is not mine   \n",
       "\n",
       "                             Consumer complaint narrative  \\\n",
       "119601                                                NaN   \n",
       "119602  On XXXX/XXXX/16 a dispute and validation of a ...   \n",
       "119603                                                NaN   \n",
       "119604                                                NaN   \n",
       "119605                                                NaN   \n",
       "\n",
       "                                  Company public response  \\\n",
       "119601                                                NaN   \n",
       "119602  Company has responded to the consumer and the ...   \n",
       "119603   Company chooses not to provide a public response   \n",
       "119604                                                NaN   \n",
       "119605                                                NaN   \n",
       "\n",
       "                                     Company State ZIP code           Tags  \\\n",
       "119601                  JPMorgan Chase & Co.    IL    60538            NaN   \n",
       "119602                              Experian    CA    956XX            NaN   \n",
       "119603  FAIR COLLECTIONS & OUTSOURCING, INC.    CA    90803  Servicemember   \n",
       "119604                  Encore Capital Group    PA    17764            NaN   \n",
       "119605    AllianceOne Recievables Management    CA    92103            NaN   \n",
       "\n",
       "       Consumer consent provided? Submitted via Date sent to company  \\\n",
       "119601                        NaN           Web           2012-09-21   \n",
       "119602           Consent provided           Web           2016-07-21   \n",
       "119603                        NaN         Phone           2015-06-12   \n",
       "119604                        NaN         Phone           2014-02-27   \n",
       "119605                        NaN           Web           2015-02-11   \n",
       "\n",
       "       Company response to consumer Timely response? Consumer disputed?  \\\n",
       "119601  Closed with monetary relief              Yes                NaN   \n",
       "119602      Closed with explanation              Yes                NaN   \n",
       "119603      Closed with explanation              Yes                NaN   \n",
       "119604      Closed with explanation              Yes                NaN   \n",
       "119605      Closed with explanation              Yes                NaN   \n",
       "\n",
       "        Complaint ID  data  \n",
       "119601        153482  test  \n",
       "119602       2023523  test  \n",
       "119603       1413678  test  \n",
       "119604        732458  test  \n",
       "119605       1235226  test  "
      ]
     },
     "execution_count": 5,
     "metadata": {},
     "output_type": "execute_result"
    }
   ],
   "source": [
    "cd_all.tail()"
   ]
  },
  {
   "cell_type": "code",
   "execution_count": 6,
   "metadata": {},
   "outputs": [
    {
     "data": {
      "text/plain": [
       "(598027, 19)"
      ]
     },
     "execution_count": 6,
     "metadata": {},
     "output_type": "execute_result"
    }
   ],
   "source": [
    "cd_all.shape"
   ]
  },
  {
   "cell_type": "code",
   "execution_count": 7,
   "metadata": {},
   "outputs": [],
   "source": [
    "for col in ['Date received','Date sent to company']:\n",
    "    cd_all[col]=pd.to_datetime(cd_all[col],infer_datetime_format=True)"
   ]
  },
  {
   "cell_type": "code",
   "execution_count": 8,
   "metadata": {},
   "outputs": [
    {
     "data": {
      "text/plain": [
       "Date received                   datetime64[ns]\n",
       "Product                                 object\n",
       "Sub-product                             object\n",
       "Issue                                   object\n",
       "Sub-issue                               object\n",
       "Consumer complaint narrative            object\n",
       "Company public response                 object\n",
       "Company                                 object\n",
       "State                                   object\n",
       "ZIP code                                object\n",
       "Tags                                    object\n",
       "Consumer consent provided?              object\n",
       "Submitted via                           object\n",
       "Date sent to company            datetime64[ns]\n",
       "Company response to consumer            object\n",
       "Timely response?                        object\n",
       "Consumer disputed?                      object\n",
       "Complaint ID                             int64\n",
       "data                                    object\n",
       "day_diff                                 int64\n",
       "dtype: object"
      ]
     },
     "execution_count": 8,
     "metadata": {},
     "output_type": "execute_result"
    }
   ],
   "source": [
    "cd_all['day_diff']=pd.to_numeric(cd_all['Date sent to company']-cd_all['Date received'])\n",
    "cd_all.dtypes"
   ]
  },
  {
   "cell_type": "code",
   "execution_count": 9,
   "metadata": {},
   "outputs": [],
   "source": [
    "for col in ['Date received','Date sent to company']:\n",
    "    cd_all.drop([col],1,inplace=True)"
   ]
  },
  {
   "cell_type": "code",
   "execution_count": 10,
   "metadata": {},
   "outputs": [
    {
     "name": "stdout",
     "output_type": "stream",
     "text": [
      "Product : 12\n",
      "Sub-product : 47\n",
      "Issue : 95\n",
      "Sub-issue : 68\n",
      "Consumer complaint narrative : 92118\n",
      "Company public response : 10\n",
      "Company : 3437\n",
      "State : 62\n",
      "ZIP code : 29005\n",
      "Tags : 3\n",
      "Consumer consent provided? : 4\n",
      "Submitted via : 6\n",
      "Company response to consumer : 7\n",
      "Timely response? : 2\n",
      "Consumer disputed? : 2\n",
      "data : 2\n"
     ]
    }
   ],
   "source": [
    "for col in cd_all.select_dtypes(['object']).columns:\n",
    "    print(col,':',cd_all[col].nunique())"
   ]
  },
  {
   "cell_type": "code",
   "execution_count": 11,
   "metadata": {},
   "outputs": [
    {
     "data": {
      "text/plain": [
       "Product                              0\n",
       "Sub-product                     173225\n",
       "Issue                                0\n",
       "Sub-issue                       365685\n",
       "Consumer complaint narrative    504376\n",
       "Company public response         484859\n",
       "Company                              0\n",
       "State                             4764\n",
       "ZIP code                          4774\n",
       "Tags                            513950\n",
       "Consumer consent provided?      428676\n",
       "Submitted via                        1\n",
       "Company response to consumer         0\n",
       "Timely response?                     0\n",
       "Consumer disputed?              119606\n",
       "Complaint ID                         0\n",
       "data                                 0\n",
       "day_diff                             0\n",
       "dtype: int64"
      ]
     },
     "execution_count": 11,
     "metadata": {},
     "output_type": "execute_result"
    }
   ],
   "source": [
    "cd_all.isnull().sum()"
   ]
  },
  {
   "cell_type": "code",
   "execution_count": 12,
   "metadata": {},
   "outputs": [],
   "source": [
    "for col in ['Sub-product','Sub-issue',\n",
    "            'Company public response','Tags','Consumer consent provided?']:\n",
    "    varname=col.replace('-','_').replace('?','').replace(\" \",'_')+'_isNan'\n",
    "    cd_all[varname]=np.where(pd.isnull(cd_all[col]),1,0)\n",
    "    cd_all.drop([col],1,inplace=True)"
   ]
  },
  {
   "cell_type": "code",
   "execution_count": 13,
   "metadata": {},
   "outputs": [
    {
     "data": {
      "text/plain": [
       "(598027, 18)"
      ]
     },
     "execution_count": 13,
     "metadata": {},
     "output_type": "execute_result"
    }
   ],
   "source": [
    "cd_all.shape"
   ]
  },
  {
   "cell_type": "code",
   "execution_count": 14,
   "metadata": {},
   "outputs": [
    {
     "name": "stdout",
     "output_type": "stream",
     "text": [
      "Product : 12\n",
      "Issue : 95\n",
      "Consumer complaint narrative : 92118\n",
      "Company : 3437\n",
      "State : 62\n",
      "ZIP code : 29005\n",
      "Submitted via : 6\n",
      "Company response to consumer : 7\n",
      "Timely response? : 2\n",
      "Consumer disputed? : 2\n",
      "data : 2\n"
     ]
    }
   ],
   "source": [
    "for col in cd_all.select_dtypes(['object']).columns:\n",
    "    print(col,':',cd_all[col].nunique())"
   ]
  },
  {
   "cell_type": "code",
   "execution_count": 15,
   "metadata": {},
   "outputs": [
    {
     "data": {
      "text/plain": [
       "(598027, 17)"
      ]
     },
     "execution_count": 15,
     "metadata": {},
     "output_type": "execute_result"
    }
   ],
   "source": [
    "for col in ['ZIP code' ]:\n",
    "    cd_all.drop([col],1,inplace=True)\n",
    "\n",
    "cd_all.shape"
   ]
  },
  {
   "cell_type": "code",
   "execution_count": 16,
   "metadata": {},
   "outputs": [
    {
     "data": {
      "text/plain": [
       "Bank of America                              57887\n",
       "Wells Fargo & Company                        44337\n",
       "JPMorgan Chase & Co.                         36040\n",
       "Equifax                                      36013\n",
       "Experian                                     33622\n",
       "                                             ...  \n",
       "RateBeat LLC                                     1\n",
       "DCB Financial LLC                                1\n",
       "Contemporary Information Corp                    1\n",
       "National Management Recovery Corp. (NMRC)        1\n",
       "Auto Properties II, LLC                          1\n",
       "Name: Company, Length: 3437, dtype: int64"
      ]
     },
     "execution_count": 16,
     "metadata": {},
     "output_type": "execute_result"
    }
   ],
   "source": [
    "cd_all['Company'].value_counts()"
   ]
  },
  {
   "cell_type": "code",
   "execution_count": 17,
   "metadata": {},
   "outputs": [
    {
     "name": "stdout",
     "output_type": "stream",
     "text": [
      "value of  Index(['Bank of America', 'Wells Fargo & Company', 'JPMorgan Chase & Co.',\n",
      "       'Equifax', 'Experian', 'TransUnion Intermediate Holdings, Inc.',\n",
      "       'Citibank', 'Ocwen', 'Capital One', 'Nationstar Mortgage',\n",
      "       'Synchrony Financial', 'U.S. Bancorp', 'Ditech Financial LLC',\n",
      "       'Navient Solutions, Inc.', 'PNC Bank N.A.', 'Encore Capital Group',\n",
      "       'Amex', 'HSBC North America Holdings Inc.', 'SunTrust Banks, Inc.',\n",
      "       'Discover', 'TD Bank US Holding Company',\n",
      "       'Select Portfolio Servicing, Inc',\n",
      "       'Portfolio Recovery Associates, Inc.', 'Citizens Financial Group, Inc.',\n",
      "       'Fifth Third Financial Corporation', 'Seterus, Inc.', 'Barclays PLC',\n",
      "       'ERC', 'BB&T Financial', 'M&T Bank Corporation',\n",
      "       'PayPal Holdings, Inc.', 'Ally Financial Inc.', 'USAA Savings',\n",
      "       'Specialized Loan Servicing LLC', 'Regions Financial Corporation',\n",
      "       'AES/PHEAA', 'Santander Consumer USA Holdings Inc', 'Santander Bank US',\n",
      "       'Resurgent Capital Services L.P.', 'Flagstar Bank',\n",
      "       'Expert Global Solutions, Inc.', 'Caliber Home Loans, Inc',\n",
      "       'Transworld Systems Inc.', 'Navy FCU', 'PHH Mortgage',\n",
      "       'CIT Bank National Association', 'KeyBank NA',\n",
      "       'Convergent Resources, Inc.', 'Bayview Loan Servicing, LLC',\n",
      "       'Carrington Mortgage Holdings, LLC.', 'The Western Union Company',\n",
      "       'Diversified Consultants, Inc.', 'Allied Interstate LLC', 'Afni, Inc.',\n",
      "       'MoneyGram', 'TCF National Bank', 'BBVA Compass',\n",
      "       'The Huntington National Bank', 'Quicken Loans', 'I.C. System, Inc.'],\n",
      "      dtype='object')\n",
      "Index(['Bank of America', 'Wells Fargo & Company', 'JPMorgan Chase & Co.',\n",
      "       'Equifax', 'Experian', 'TransUnion Intermediate Holdings, Inc.',\n",
      "       'Citibank', 'Ocwen', 'Capital One', 'Nationstar Mortgage',\n",
      "       'Synchrony Financial', 'U.S. Bancorp', 'Ditech Financial LLC',\n",
      "       'Navient Solutions, Inc.', 'PNC Bank N.A.', 'Encore Capital Group',\n",
      "       'Amex', 'HSBC North America Holdings Inc.', 'SunTrust Banks, Inc.',\n",
      "       'Discover', 'TD Bank US Holding Company',\n",
      "       'Select Portfolio Servicing, Inc',\n",
      "       'Portfolio Recovery Associates, Inc.', 'Citizens Financial Group, Inc.',\n",
      "       'Fifth Third Financial Corporation', 'Seterus, Inc.', 'Barclays PLC',\n",
      "       'ERC', 'BB&T Financial', 'M&T Bank Corporation',\n",
      "       'PayPal Holdings, Inc.', 'Ally Financial Inc.', 'USAA Savings',\n",
      "       'Specialized Loan Servicing LLC', 'Regions Financial Corporation',\n",
      "       'AES/PHEAA', 'Santander Consumer USA Holdings Inc', 'Santander Bank US',\n",
      "       'Resurgent Capital Services L.P.', 'Flagstar Bank',\n",
      "       'Expert Global Solutions, Inc.', 'Caliber Home Loans, Inc',\n",
      "       'Transworld Systems Inc.', 'Navy FCU', 'PHH Mortgage',\n",
      "       'CIT Bank National Association', 'KeyBank NA',\n",
      "       'Convergent Resources, Inc.', 'Bayview Loan Servicing, LLC',\n",
      "       'Carrington Mortgage Holdings, LLC.', 'The Western Union Company',\n",
      "       'Diversified Consultants, Inc.', 'Allied Interstate LLC', 'Afni, Inc.',\n",
      "       'MoneyGram', 'TCF National Bank', 'BBVA Compass',\n",
      "       'The Huntington National Bank', 'Quicken Loans', 'I.C. System, Inc.'],\n",
      "      dtype='object') Company Bank of America                              57887\n",
      "Wells Fargo & Company                        44337\n",
      "JPMorgan Chase & Co.                         36040\n",
      "Equifax                                      36013\n",
      "Experian                                     33622\n",
      "                                             ...  \n",
      "RateBeat LLC                                     1\n",
      "DCB Financial LLC                                1\n",
      "Contemporary Information Corp                    1\n",
      "National Management Recovery Corp. (NMRC)        1\n",
      "Auto Properties II, LLC                          1\n",
      "Name: Company, Length: 3437, dtype: int64 first loop frequency k\n",
      "Company\n"
     ]
    },
    {
     "data": {
      "text/plain": [
       "(598027, 76)"
      ]
     },
     "execution_count": 17,
     "metadata": {},
     "output_type": "execute_result"
    }
   ],
   "source": [
    "for col in ['Company']:\n",
    "    #print(col,\"first loop\")\n",
    "    freqs=cd_all[col].value_counts()\n",
    "    #print(col,freqs,\"first loop frequency\")\n",
    "    k=freqs.index[freqs>1000][:-1]\n",
    "    print(\"value of \", k)\n",
    "    print(k, col,freqs,\"first loop frequency k\")\n",
    "    for cat in k:\n",
    "        name=col+'_'+cat\n",
    "        cd_all[name]=(cd_all[col]==cat).astype(int)\n",
    "        #print(name)\n",
    "    del cd_all[col]\n",
    "    print(col)\n",
    "\n",
    "cd_all.shape"
   ]
  },
  {
   "cell_type": "code",
   "execution_count": 18,
   "metadata": {},
   "outputs": [],
   "source": [
    "cd_all['Consumer disputed?']=np.where(cd_all['Consumer disputed?']==\"Yes\",1,0)"
   ]
  },
  {
   "cell_type": "code",
   "execution_count": 19,
   "metadata": {},
   "outputs": [
    {
     "data": {
      "text/plain": [
       "(598027, 85)"
      ]
     },
     "execution_count": 19,
     "metadata": {},
     "output_type": "execute_result"
    }
   ],
   "source": [
    "k=cd_all['Issue'].value_counts()\n",
    "for val in k.axes[0][0:10]:\n",
    "    varname='Issue_'+val.replace(',','_').replace(' ','_')\n",
    "    cd_all[varname]=np.where(cd_all['Issue']==val,1,0)\n",
    "    \n",
    "del cd_all['Issue']\n",
    "cd_all.shape"
   ]
  },
  {
   "cell_type": "code",
   "execution_count": 20,
   "metadata": {},
   "outputs": [
    {
     "name": "stdout",
     "output_type": "stream",
     "text": [
      "Product : 12\n",
      "Consumer complaint narrative : 92118\n",
      "State : 62\n",
      "Submitted via : 6\n",
      "Company response to consumer : 7\n",
      "Timely response? : 2\n",
      "data : 2\n"
     ]
    },
    {
     "data": {
      "text/plain": [
       "(598027, 85)"
      ]
     },
     "execution_count": 20,
     "metadata": {},
     "output_type": "execute_result"
    }
   ],
   "source": [
    "for col in cd_all.select_dtypes(['object']).columns:\n",
    "    print(col,':',cd_all[col].nunique())\n",
    "    \n",
    "cd_all.shape"
   ]
  },
  {
   "cell_type": "code",
   "execution_count": 21,
   "metadata": {},
   "outputs": [
    {
     "data": {
      "text/plain": [
       "(598027, 99)"
      ]
     },
     "execution_count": 21,
     "metadata": {},
     "output_type": "execute_result"
    }
   ],
   "source": [
    "k=cd_all['State'].value_counts()\n",
    "for val in k.axes[0][0:15]:\n",
    "    varname='State_'+val.replace(',','_').replace(' ','_')\n",
    "    cd_all[varname]=np.where(cd_all['State']==val,1,0)\n",
    "    \n",
    "del cd_all['State']\n",
    "cd_all.shape"
   ]
  },
  {
   "cell_type": "code",
   "execution_count": 22,
   "metadata": {},
   "outputs": [],
   "source": [
    "for col in ['Product','Submitted via','Company response to consumer','Timely response?']:\n",
    "    \n",
    "    temp=pd.get_dummies(cd_all[col],prefix=col,drop_first=True)\n",
    "    cd_all=pd.concat([temp,cd_all],1)\n",
    "    cd_all.drop([col],1,inplace=True)"
   ]
  },
  {
   "cell_type": "code",
   "execution_count": 23,
   "metadata": {},
   "outputs": [
    {
     "data": {
      "text/plain": [
       "(598027, 118)"
      ]
     },
     "execution_count": 23,
     "metadata": {},
     "output_type": "execute_result"
    }
   ],
   "source": [
    "cd_all.shape"
   ]
  },
  {
   "cell_type": "code",
   "execution_count": 24,
   "metadata": {},
   "outputs": [],
   "source": [
    "from sklearn.feature_extraction.text import TfidfVectorizer "
   ]
  },
  {
   "cell_type": "code",
   "execution_count": 25,
   "metadata": {},
   "outputs": [],
   "source": [
    "from nltk.stem.wordnet import WordNetLemmatizer\n",
    "from nltk.corpus import stopwords\n",
    "from string import punctuation\n",
    "from nltk.tokenize import word_tokenize\n",
    "lemma = WordNetLemmatizer()\n",
    "my_stop=set(stopwords.words('english')+list(punctuation))"
   ]
  },
  {
   "cell_type": "code",
   "execution_count": 26,
   "metadata": {},
   "outputs": [],
   "source": [
    "tfidf= TfidfVectorizer(analyzer='word',min_df=0.01,max_df=0.6,\n",
    "                       stop_words=my_stop, max_features=200)"
   ]
  },
  {
   "cell_type": "code",
   "execution_count": 27,
   "metadata": {},
   "outputs": [],
   "source": [
    "cd_all['Consumer complaint narrative'].fillna('missing',inplace=True)"
   ]
  },
  {
   "cell_type": "code",
   "execution_count": 28,
   "metadata": {},
   "outputs": [
    {
     "data": {
      "text/plain": [
       "TfidfVectorizer(max_df=0.6, max_features=200, min_df=0.01,\n",
       "                stop_words={'!', '\"', '#', '$', '%', '&', \"'\", '(', ')', '*',\n",
       "                            '+', ',', '-', '.', '/', ':', ';', '<', '=', '>',\n",
       "                            '?', '@', '[', '\\\\', ']', '^', '_', '`', 'a',\n",
       "                            'about', ...})"
      ]
     },
     "execution_count": 28,
     "metadata": {},
     "output_type": "execute_result"
    }
   ],
   "source": [
    "tfidf.fit(cd_all['Consumer complaint narrative'])"
   ]
  },
  {
   "cell_type": "code",
   "execution_count": 29,
   "metadata": {},
   "outputs": [],
   "source": [
    "tfidf_data=pd.DataFrame(data=tfidf.transform(cd_all['Consumer complaint narrative']).toarray(),\n",
    "\n",
    "                       columns=tfidf.get_feature_names())"
   ]
  },
  {
   "cell_type": "code",
   "execution_count": 30,
   "metadata": {},
   "outputs": [],
   "source": [
    "cd_all.reset_index(drop=True, inplace=True)\n",
    "tfidf_data.reset_index(drop=True, inplace=True)"
   ]
  },
  {
   "cell_type": "code",
   "execution_count": 31,
   "metadata": {},
   "outputs": [],
   "source": [
    "cd_combined = pd.concat([cd_all, tfidf_data], axis=1)"
   ]
  },
  {
   "cell_type": "code",
   "execution_count": 32,
   "metadata": {},
   "outputs": [
    {
     "data": {
      "text/plain": [
       "(598027, 304)"
      ]
     },
     "execution_count": 32,
     "metadata": {},
     "output_type": "execute_result"
    }
   ],
   "source": [
    "cd_combined.shape"
   ]
  },
  {
   "cell_type": "code",
   "execution_count": 33,
   "metadata": {},
   "outputs": [],
   "source": [
    "del cd_combined['Consumer complaint narrative']"
   ]
  },
  {
   "cell_type": "code",
   "execution_count": 34,
   "metadata": {},
   "outputs": [
    {
     "data": {
      "text/plain": [
       "(598027, 303)"
      ]
     },
     "execution_count": 34,
     "metadata": {},
     "output_type": "execute_result"
    }
   ],
   "source": [
    "cd_combined.shape"
   ]
  },
  {
   "cell_type": "code",
   "execution_count": 35,
   "metadata": {},
   "outputs": [],
   "source": [
    "cd_train=cd_combined[cd_combined['data']=='train']\n",
    "del cd_train['data']\n",
    "cd_test=cd_combined[cd_combined['data']=='test']\n",
    "cd_test.drop(['Consumer disputed?','data'],axis=1,inplace=True)"
   ]
  },
  {
   "cell_type": "code",
   "execution_count": 36,
   "metadata": {},
   "outputs": [],
   "source": [
    "del cd_combined"
   ]
  },
  {
   "cell_type": "code",
   "execution_count": 37,
   "metadata": {},
   "outputs": [
    {
     "data": {
      "text/plain": [
       "(478421, 302)"
      ]
     },
     "execution_count": 37,
     "metadata": {},
     "output_type": "execute_result"
    }
   ],
   "source": [
    "cd_train.shape"
   ]
  },
  {
   "cell_type": "code",
   "execution_count": 38,
   "metadata": {},
   "outputs": [
    {
     "data": {
      "text/plain": [
       "(119606, 301)"
      ]
     },
     "execution_count": 38,
     "metadata": {},
     "output_type": "execute_result"
    }
   ],
   "source": [
    "cd_test.shape"
   ]
  },
  {
   "cell_type": "code",
   "execution_count": 39,
   "metadata": {},
   "outputs": [],
   "source": [
    "x=cd_train.drop(['Consumer disputed?','Complaint ID'],1)\n",
    "y=cd_train['Consumer disputed?']"
   ]
  },
  {
   "cell_type": "code",
   "execution_count": 41,
   "metadata": {},
   "outputs": [],
   "source": []
  },
  {
   "cell_type": "code",
   "execution_count": 42,
   "metadata": {},
   "outputs": [],
   "source": [
    "#testing the performance of model on 80:20 trai test split"
   ]
  },
  {
   "cell_type": "code",
   "execution_count": 43,
   "metadata": {},
   "outputs": [],
   "source": [
    "cd_train1,cd_train2=train_test_split(cd_train,test_size=0.2,random_state=2)"
   ]
  },
  {
   "cell_type": "code",
   "execution_count": 44,
   "metadata": {},
   "outputs": [],
   "source": [
    "x_train1=cd_train1.drop(['Consumer disputed?','Complaint ID'],1)\n",
    "y_train1=cd_train1['Consumer disputed?']"
   ]
  },
  {
   "cell_type": "code",
   "execution_count": 45,
   "metadata": {},
   "outputs": [],
   "source": [
    "x_train2=cd_train2.drop(['Consumer disputed?','Complaint ID'],1)\n",
    "y_train2=cd_train2['Consumer disputed?']"
   ]
  },
  {
   "cell_type": "code",
   "execution_count": null,
   "metadata": {},
   "outputs": [],
   "source": []
  },
  {
   "cell_type": "code",
   "execution_count": null,
   "metadata": {},
   "outputs": [],
   "source": [
    "========================================================================================="
   ]
  },
  {
   "cell_type": "code",
   "execution_count": null,
   "metadata": {},
   "outputs": [],
   "source": [
    "###grid search"
   ]
  },
  {
   "cell_type": "code",
   "execution_count": 65,
   "metadata": {},
   "outputs": [],
   "source": [
    "from sklearn.model_selection import GridSearchCV"
   ]
  },
  {
   "cell_type": "code",
   "execution_count": 66,
   "metadata": {},
   "outputs": [],
   "source": [
    "params={'class_weight':['balanced',None],\n",
    "        'penalty':['l1','l2'],\n",
    "        'C':np.linspace(0.01,1000,10)}"
   ]
  },
  {
   "cell_type": "code",
   "execution_count": 67,
   "metadata": {},
   "outputs": [],
   "source": [
    "grid_search=GridSearchCV(clf,param_grid=params,cv=5,scoring=\"roc_auc\")"
   ]
  },
  {
   "cell_type": "code",
   "execution_count": 68,
   "metadata": {},
   "outputs": [
    {
     "data": {
      "text/plain": [
       "GridSearchCV(cv=5, estimator=LogisticRegression(),\n",
       "             param_grid={'C': array([1.0000e-02, 1.1112e+02, 2.2223e+02, 3.3334e+02, 4.4445e+02,\n",
       "       5.5556e+02, 6.6667e+02, 7.7778e+02, 8.8889e+02, 1.0000e+03]),\n",
       "                         'class_weight': ['balanced', None],\n",
       "                         'penalty': ['l1', 'l2']},\n",
       "             scoring='roc_auc')"
      ]
     },
     "execution_count": 68,
     "metadata": {},
     "output_type": "execute_result"
    }
   ],
   "source": [
    "grid_search.fit(x,y)"
   ]
  },
  {
   "cell_type": "code",
   "execution_count": 69,
   "metadata": {},
   "outputs": [
    {
     "data": {
      "text/plain": [
       "LogisticRegression(C=666.67, class_weight='balanced')"
      ]
     },
     "execution_count": 69,
     "metadata": {},
     "output_type": "execute_result"
    }
   ],
   "source": [
    "grid_search.best_estimator_"
   ]
  },
  {
   "cell_type": "code",
   "execution_count": 70,
   "metadata": {},
   "outputs": [],
   "source": [
    "logr_gs=grid_search.best_estimator_"
   ]
  },
  {
   "cell_type": "code",
   "execution_count": 71,
   "metadata": {},
   "outputs": [],
   "source": [
    "def report(results, n_top=3):\n",
    "    for i in range(1, n_top + 1):\n",
    "        candidates = np.flatnonzero(results['rank_test_score'] == i)\n",
    "        for candidate in candidates:\n",
    "            print(\"Model with rank: {0}\".format(i))\n",
    "            print(\"Mean validation score: {0:.10f} (std: {1:.5f})\".format(\n",
    "                  results['mean_test_score'][candidate],\n",
    "                  results['std_test_score'][candidate]))\n",
    "            print(\"Parameters: {0}\".format(results['params'][candidate]))\n",
    "            print(\"\")"
   ]
  },
  {
   "cell_type": "code",
   "execution_count": 72,
   "metadata": {},
   "outputs": [
    {
     "name": "stdout",
     "output_type": "stream",
     "text": [
      "Model with rank: 1\n",
      "Mean validation score: 0.5291933240 (std: 0.00179)\n",
      "Parameters: {'C': 666.67, 'class_weight': 'balanced', 'penalty': 'l2'}\n",
      "\n",
      "Model with rank: 2\n",
      "Mean validation score: 0.5068716981 (std: 0.00170)\n",
      "Parameters: {'C': 1000.0, 'class_weight': None, 'penalty': 'l2'}\n",
      "\n",
      "Model with rank: 3\n",
      "Mean validation score: nan (std: nan)\n",
      "Parameters: {'C': 555.56, 'class_weight': None, 'penalty': 'l1'}\n",
      "\n",
      "Model with rank: 4\n",
      "Mean validation score: nan (std: nan)\n",
      "Parameters: {'C': 555.56, 'class_weight': None, 'penalty': 'l2'}\n",
      "\n",
      "Model with rank: 5\n",
      "Mean validation score: nan (std: nan)\n",
      "Parameters: {'C': 666.67, 'class_weight': 'balanced', 'penalty': 'l1'}\n",
      "\n"
     ]
    }
   ],
   "source": [
    "report(grid_search.cv_results_,5)"
   ]
  },
  {
   "cell_type": "code",
   "execution_count": 73,
   "metadata": {},
   "outputs": [],
   "source": [
    "test_score_gs=logr_gs.predict_proba(x_train2)[:,1]"
   ]
  },
  {
   "cell_type": "code",
   "execution_count": 74,
   "metadata": {},
   "outputs": [
    {
     "data": {
      "text/plain": [
       "0.5129426544803306"
      ]
     },
     "execution_count": 74,
     "metadata": {},
     "output_type": "execute_result"
    }
   ],
   "source": [
    "roc_auc_score(y_train2,test_score_gs)"
   ]
  },
  {
   "cell_type": "code",
   "execution_count": 104,
   "metadata": {},
   "outputs": [],
   "source": [
    "#============================================================================================="
   ]
  },
  {
   "cell_type": "code",
   "execution_count": null,
   "metadata": {},
   "outputs": [],
   "source": []
  },
  {
   "cell_type": "code",
   "execution_count": null,
   "metadata": {},
   "outputs": [],
   "source": [
    "#Decision tree"
   ]
  },
  {
   "cell_type": "code",
   "execution_count": 84,
   "metadata": {},
   "outputs": [],
   "source": [
    "from sklearn import tree\n",
    "from sklearn.model_selection import RandomizedSearchCV\n",
    "%matplotlib inline"
   ]
  },
  {
   "cell_type": "code",
   "execution_count": 85,
   "metadata": {},
   "outputs": [],
   "source": [
    "from sklearn.tree import DecisionTreeClassifier"
   ]
  },
  {
   "cell_type": "code",
   "execution_count": 86,
   "metadata": {},
   "outputs": [],
   "source": [
    "params={ 'class_weight':[None,'balanced'], \n",
    "        'criterion':['entropy','gini'],\n",
    "        'max_depth':[None,5,10,15,20,30,50,70],\n",
    "            'min_samples_leaf':[1,2,5,10,15,20], \n",
    "            'min_samples_split':[2,5,10,15,20]\n",
    "       }"
   ]
  },
  {
   "cell_type": "code",
   "execution_count": 87,
   "metadata": {},
   "outputs": [],
   "source": [
    "clf_dt=DecisionTreeClassifier()"
   ]
  },
  {
   "cell_type": "code",
   "execution_count": 88,
   "metadata": {},
   "outputs": [],
   "source": [
    "random_search=RandomizedSearchCV(clf_dt,cv=10,\n",
    "                                 param_distributions=params,\n",
    "                                 scoring='roc_auc',\n",
    "                                 n_iter=10\n",
    "                                    )"
   ]
  },
  {
   "cell_type": "code",
   "execution_count": 89,
   "metadata": {},
   "outputs": [
    {
     "data": {
      "text/plain": [
       "RandomizedSearchCV(cv=10, estimator=DecisionTreeClassifier(),\n",
       "                   param_distributions={'class_weight': [None, 'balanced'],\n",
       "                                        'criterion': ['entropy', 'gini'],\n",
       "                                        'max_depth': [None, 5, 10, 15, 20, 30,\n",
       "                                                      50, 70],\n",
       "                                        'min_samples_leaf': [1, 2, 5, 10, 15,\n",
       "                                                             20],\n",
       "                                        'min_samples_split': [2, 5, 10, 15,\n",
       "                                                              20]},\n",
       "                   scoring='roc_auc')"
      ]
     },
     "execution_count": 89,
     "metadata": {},
     "output_type": "execute_result"
    }
   ],
   "source": [
    "random_search.fit(x,y)"
   ]
  },
  {
   "cell_type": "code",
   "execution_count": 90,
   "metadata": {},
   "outputs": [
    {
     "data": {
      "text/plain": [
       "{'mean_fit_time': array([25.67983718, 28.40964746, 33.37767551, 22.61489477, 20.93909729,\n",
       "        33.00738282, 29.91615078, 33.12521605,  6.98241994, 47.79055493]),\n",
       " 'std_fit_time': array([ 1.57996331,  1.60036522,  2.87147833,  1.62246556,  1.38077211,\n",
       "         5.19702581, 10.67933309,  2.44860796,  0.41352032, 35.13976249]),\n",
       " 'mean_score_time': array([0.21212912, 0.15632229, 0.22728083, 0.17581003, 0.15520532,\n",
       "        0.20028241, 0.14902744, 0.14323297, 0.10008478, 0.15873592]),\n",
       " 'std_score_time': array([0.06429457, 0.02604556, 0.09080529, 0.03168882, 0.02954759,\n",
       "        0.13109454, 0.02775518, 0.0166345 , 0.01130036, 0.03053372]),\n",
       " 'param_min_samples_split': masked_array(data=[15, 15, 2, 2, 5, 20, 20, 10, 2, 5],\n",
       "              mask=[False, False, False, False, False, False, False, False,\n",
       "                    False, False],\n",
       "        fill_value='?',\n",
       "             dtype=object),\n",
       " 'param_min_samples_leaf': masked_array(data=[1, 15, 1, 20, 10, 15, 5, 10, 10, 1],\n",
       "              mask=[False, False, False, False, False, False, False, False,\n",
       "                    False, False],\n",
       "        fill_value='?',\n",
       "             dtype=object),\n",
       " 'param_max_depth': masked_array(data=[20, 30, 30, 20, 15, 70, 30, None, 5, 70],\n",
       "              mask=[False, False, False, False, False, False, False, False,\n",
       "                    False, False],\n",
       "        fill_value='?',\n",
       "             dtype=object),\n",
       " 'param_criterion': masked_array(data=['entropy', 'entropy', 'gini', 'gini', 'entropy',\n",
       "                    'gini', 'gini', 'gini', 'gini', 'gini'],\n",
       "              mask=[False, False, False, False, False, False, False, False,\n",
       "                    False, False],\n",
       "        fill_value='?',\n",
       "             dtype=object),\n",
       " 'param_class_weight': masked_array(data=[None, None, None, None, 'balanced', None, 'balanced',\n",
       "                    None, 'balanced', None],\n",
       "              mask=[False, False, False, False, False, False, False, False,\n",
       "                    False, False],\n",
       "        fill_value='?',\n",
       "             dtype=object),\n",
       " 'params': [{'min_samples_split': 15,\n",
       "   'min_samples_leaf': 1,\n",
       "   'max_depth': 20,\n",
       "   'criterion': 'entropy',\n",
       "   'class_weight': None},\n",
       "  {'min_samples_split': 15,\n",
       "   'min_samples_leaf': 15,\n",
       "   'max_depth': 30,\n",
       "   'criterion': 'entropy',\n",
       "   'class_weight': None},\n",
       "  {'min_samples_split': 2,\n",
       "   'min_samples_leaf': 1,\n",
       "   'max_depth': 30,\n",
       "   'criterion': 'gini',\n",
       "   'class_weight': None},\n",
       "  {'min_samples_split': 2,\n",
       "   'min_samples_leaf': 20,\n",
       "   'max_depth': 20,\n",
       "   'criterion': 'gini',\n",
       "   'class_weight': None},\n",
       "  {'min_samples_split': 5,\n",
       "   'min_samples_leaf': 10,\n",
       "   'max_depth': 15,\n",
       "   'criterion': 'entropy',\n",
       "   'class_weight': 'balanced'},\n",
       "  {'min_samples_split': 20,\n",
       "   'min_samples_leaf': 15,\n",
       "   'max_depth': 70,\n",
       "   'criterion': 'gini',\n",
       "   'class_weight': None},\n",
       "  {'min_samples_split': 20,\n",
       "   'min_samples_leaf': 5,\n",
       "   'max_depth': 30,\n",
       "   'criterion': 'gini',\n",
       "   'class_weight': 'balanced'},\n",
       "  {'min_samples_split': 10,\n",
       "   'min_samples_leaf': 10,\n",
       "   'max_depth': None,\n",
       "   'criterion': 'gini',\n",
       "   'class_weight': None},\n",
       "  {'min_samples_split': 2,\n",
       "   'min_samples_leaf': 10,\n",
       "   'max_depth': 5,\n",
       "   'criterion': 'gini',\n",
       "   'class_weight': 'balanced'},\n",
       "  {'min_samples_split': 5,\n",
       "   'min_samples_leaf': 1,\n",
       "   'max_depth': 70,\n",
       "   'criterion': 'gini',\n",
       "   'class_weight': None}],\n",
       " 'split0_test_score': array([0.60423237, 0.59161088, 0.57622248, 0.60544634, 0.61678874,\n",
       "        0.57920045, 0.58595082, 0.56826839, 0.60516498, 0.54353767]),\n",
       " 'split1_test_score': array([0.60724932, 0.59674858, 0.58003904, 0.61164436, 0.6149285 ,\n",
       "        0.5849378 , 0.58939404, 0.57573672, 0.60614427, 0.55784867]),\n",
       " 'split2_test_score': array([0.60296594, 0.59503831, 0.57757512, 0.60696457, 0.61413043,\n",
       "        0.58367112, 0.58359303, 0.57585167, 0.60672305, 0.54460477]),\n",
       " 'split3_test_score': array([0.60280069, 0.59524486, 0.57820725, 0.60654443, 0.61107865,\n",
       "        0.58063444, 0.5841336 , 0.57313506, 0.6044751 , 0.55138225]),\n",
       " 'split4_test_score': array([0.60252828, 0.59084156, 0.5776523 , 0.60477582, 0.60998111,\n",
       "        0.58333211, 0.58764095, 0.57255962, 0.60122863, 0.54957554]),\n",
       " 'split5_test_score': array([0.60381609, 0.59217082, 0.57723069, 0.60825787, 0.61516857,\n",
       "        0.58173078, 0.58753837, 0.5732639 , 0.60578937, 0.54816305]),\n",
       " 'split6_test_score': array([0.60648016, 0.59696811, 0.58278753, 0.61196342, 0.6210085 ,\n",
       "        0.5857883 , 0.5883504 , 0.57340318, 0.61114286, 0.54928159]),\n",
       " 'split7_test_score': array([0.60574422, 0.58930808, 0.57619503, 0.60339531, 0.61153431,\n",
       "        0.57893237, 0.58500612, 0.57082155, 0.60112036, 0.5474245 ]),\n",
       " 'split8_test_score': array([0.61206788, 0.59951113, 0.58349873, 0.61278812, 0.61948323,\n",
       "        0.58933325, 0.58962736, 0.58272748, 0.60718464, 0.55247965]),\n",
       " 'split9_test_score': array([0.60911164, 0.5960076 , 0.57921639, 0.6105441 , 0.61648695,\n",
       "        0.5885604 , 0.58504049, 0.57818919, 0.60772034, 0.5530378 ]),\n",
       " 'mean_test_score': array([0.60569966, 0.59434499, 0.57886246, 0.60823244, 0.6150589 ,\n",
       "        0.5836121 , 0.58662752, 0.57439567, 0.60566936, 0.54973355]),\n",
       " 'std_test_score': array([0.00294693, 0.00305366, 0.002423  , 0.00315001, 0.00339034,\n",
       "        0.00342871, 0.00206182, 0.00381146, 0.00282677, 0.00399692]),\n",
       " 'rank_test_score': array([ 3,  5,  8,  2,  1,  7,  6,  9,  4, 10])}"
      ]
     },
     "execution_count": 90,
     "metadata": {},
     "output_type": "execute_result"
    }
   ],
   "source": [
    "random_search.cv_results_"
   ]
  },
  {
   "cell_type": "code",
   "execution_count": 91,
   "metadata": {},
   "outputs": [
    {
     "data": {
      "text/plain": [
       "DecisionTreeClassifier(class_weight='balanced', criterion='entropy',\n",
       "                       max_depth=15, min_samples_leaf=10, min_samples_split=5)"
      ]
     },
     "execution_count": 91,
     "metadata": {},
     "output_type": "execute_result"
    }
   ],
   "source": [
    "random_search.best_estimator_"
   ]
  },
  {
   "cell_type": "code",
   "execution_count": 92,
   "metadata": {},
   "outputs": [
    {
     "name": "stdout",
     "output_type": "stream",
     "text": [
      "Model with rank: 1\n",
      "Mean validation score: 0.6150588989 (std: 0.00339)\n",
      "Parameters: {'min_samples_split': 5, 'min_samples_leaf': 10, 'max_depth': 15, 'criterion': 'entropy', 'class_weight': 'balanced'}\n",
      "\n",
      "Model with rank: 2\n",
      "Mean validation score: 0.6082324351 (std: 0.00315)\n",
      "Parameters: {'min_samples_split': 2, 'min_samples_leaf': 20, 'max_depth': 20, 'criterion': 'gini', 'class_weight': None}\n",
      "\n",
      "Model with rank: 3\n",
      "Mean validation score: 0.6056996588 (std: 0.00295)\n",
      "Parameters: {'min_samples_split': 15, 'min_samples_leaf': 1, 'max_depth': 20, 'criterion': 'entropy', 'class_weight': None}\n",
      "\n",
      "Model with rank: 4\n",
      "Mean validation score: 0.6056693601 (std: 0.00283)\n",
      "Parameters: {'min_samples_split': 2, 'min_samples_leaf': 10, 'max_depth': 5, 'criterion': 'gini', 'class_weight': 'balanced'}\n",
      "\n",
      "Model with rank: 5\n",
      "Mean validation score: 0.5943449932 (std: 0.00305)\n",
      "Parameters: {'min_samples_split': 15, 'min_samples_leaf': 15, 'max_depth': 30, 'criterion': 'entropy', 'class_weight': None}\n",
      "\n"
     ]
    }
   ],
   "source": [
    "report(random_search.cv_results_,5)"
   ]
  },
  {
   "cell_type": "code",
   "execution_count": 93,
   "metadata": {},
   "outputs": [],
   "source": [
    "dtree=random_search.best_estimator_"
   ]
  },
  {
   "cell_type": "code",
   "execution_count": 94,
   "metadata": {},
   "outputs": [
    {
     "data": {
      "text/plain": [
       "DecisionTreeClassifier(class_weight='balanced', criterion='entropy',\n",
       "                       max_depth=15, min_samples_leaf=10, min_samples_split=5)"
      ]
     },
     "execution_count": 94,
     "metadata": {},
     "output_type": "execute_result"
    }
   ],
   "source": [
    "dtree.fit(x,y)"
   ]
  },
  {
   "cell_type": "code",
   "execution_count": 95,
   "metadata": {},
   "outputs": [],
   "source": [
    "test_score_dt=dtree.predict_proba(x_train2)[:,1]"
   ]
  },
  {
   "cell_type": "code",
   "execution_count": 96,
   "metadata": {},
   "outputs": [
    {
     "data": {
      "text/plain": [
       "0.6559146019410693"
      ]
     },
     "execution_count": 96,
     "metadata": {},
     "output_type": "execute_result"
    }
   ],
   "source": [
    "roc_auc_score(y_train2,test_score_dt)"
   ]
  },
  {
   "cell_type": "code",
   "execution_count": 97,
   "metadata": {},
   "outputs": [],
   "source": [
    "#clf_dt.fit(x,y)"
   ]
  },
  {
   "cell_type": "code",
   "execution_count": 98,
   "metadata": {},
   "outputs": [],
   "source": [
    "prediction_dtree=np.where(dtree.predict(cd_test.drop(['Complaint ID'],1))==1,\"Yes\",\"No\")"
   ]
  },
  {
   "cell_type": "code",
   "execution_count": 99,
   "metadata": {},
   "outputs": [],
   "source": [
    "submission_dt=pd.DataFrame(list(zip(cd_test['Complaint ID'],list(prediction_dtree))),\n",
    "                       columns=['Complaint ID','Consumer disputed?'])"
   ]
  },
  {
   "cell_type": "code",
   "execution_count": 100,
   "metadata": {},
   "outputs": [
    {
     "data": {
      "text/plain": [
       "'C:\\\\Users\\\\91878\\\\Downloads'"
      ]
     },
     "execution_count": 100,
     "metadata": {},
     "output_type": "execute_result"
    }
   ],
   "source": [
    "import os\n",
    "os.getcwd()"
   ]
  },
  {
   "cell_type": "code",
   "execution_count": 101,
   "metadata": {},
   "outputs": [
    {
     "data": {
      "text/html": [
       "<div>\n",
       "<style scoped>\n",
       "    .dataframe tbody tr th:only-of-type {\n",
       "        vertical-align: middle;\n",
       "    }\n",
       "\n",
       "    .dataframe tbody tr th {\n",
       "        vertical-align: top;\n",
       "    }\n",
       "\n",
       "    .dataframe thead th {\n",
       "        text-align: right;\n",
       "    }\n",
       "</style>\n",
       "<table border=\"1\" class=\"dataframe\">\n",
       "  <thead>\n",
       "    <tr style=\"text-align: right;\">\n",
       "      <th></th>\n",
       "      <th>Complaint ID</th>\n",
       "      <th>Consumer disputed?</th>\n",
       "    </tr>\n",
       "  </thead>\n",
       "  <tbody>\n",
       "    <tr>\n",
       "      <th>0</th>\n",
       "      <td>675956</td>\n",
       "      <td>Yes</td>\n",
       "    </tr>\n",
       "    <tr>\n",
       "      <th>1</th>\n",
       "      <td>1858795</td>\n",
       "      <td>Yes</td>\n",
       "    </tr>\n",
       "    <tr>\n",
       "      <th>2</th>\n",
       "      <td>32637</td>\n",
       "      <td>Yes</td>\n",
       "    </tr>\n",
       "    <tr>\n",
       "      <th>3</th>\n",
       "      <td>1731374</td>\n",
       "      <td>No</td>\n",
       "    </tr>\n",
       "    <tr>\n",
       "      <th>4</th>\n",
       "      <td>501487</td>\n",
       "      <td>Yes</td>\n",
       "    </tr>\n",
       "    <tr>\n",
       "      <th>...</th>\n",
       "      <td>...</td>\n",
       "      <td>...</td>\n",
       "    </tr>\n",
       "    <tr>\n",
       "      <th>119601</th>\n",
       "      <td>153482</td>\n",
       "      <td>No</td>\n",
       "    </tr>\n",
       "    <tr>\n",
       "      <th>119602</th>\n",
       "      <td>2023523</td>\n",
       "      <td>Yes</td>\n",
       "    </tr>\n",
       "    <tr>\n",
       "      <th>119603</th>\n",
       "      <td>1413678</td>\n",
       "      <td>No</td>\n",
       "    </tr>\n",
       "    <tr>\n",
       "      <th>119604</th>\n",
       "      <td>732458</td>\n",
       "      <td>No</td>\n",
       "    </tr>\n",
       "    <tr>\n",
       "      <th>119605</th>\n",
       "      <td>1235226</td>\n",
       "      <td>Yes</td>\n",
       "    </tr>\n",
       "  </tbody>\n",
       "</table>\n",
       "<p>119606 rows × 2 columns</p>\n",
       "</div>"
      ],
      "text/plain": [
       "        Complaint ID Consumer disputed?\n",
       "0             675956                Yes\n",
       "1            1858795                Yes\n",
       "2              32637                Yes\n",
       "3            1731374                 No\n",
       "4             501487                Yes\n",
       "...              ...                ...\n",
       "119601        153482                 No\n",
       "119602       2023523                Yes\n",
       "119603       1413678                 No\n",
       "119604        732458                 No\n",
       "119605       1235226                Yes\n",
       "\n",
       "[119606 rows x 2 columns]"
      ]
     },
     "execution_count": 101,
     "metadata": {},
     "output_type": "execute_result"
    }
   ],
   "source": [
    "submission_dt"
   ]
  },
  {
   "cell_type": "code",
   "execution_count": 134,
   "metadata": {},
   "outputs": [],
   "source": [
    "submission_dt.to_csv('Sanskruti_Zodape_Project 1_part 2.csv',index=False)"
   ]
  },
  {
   "cell_type": "code",
   "execution_count": 102,
   "metadata": {},
   "outputs": [],
   "source": [
    "test_score_dt=dtree.predict_proba(x)[:,1]"
   ]
  },
  {
   "cell_type": "code",
   "execution_count": 103,
   "metadata": {},
   "outputs": [
    {
     "data": {
      "text/plain": [
       "0.6536919529225058"
      ]
     },
     "execution_count": 103,
     "metadata": {},
     "output_type": "execute_result"
    }
   ],
   "source": [
    "roc_auc_score(y,test_score_dt)"
   ]
  },
  {
   "cell_type": "code",
   "execution_count": null,
   "metadata": {},
   "outputs": [],
   "source": []
  },
  {
   "cell_type": "code",
   "execution_count": null,
   "metadata": {},
   "outputs": [],
   "source": [
    "=============================================================================="
   ]
  },
  {
   "cell_type": "code",
   "execution_count": null,
   "metadata": {},
   "outputs": [],
   "source": []
  },
  {
   "cell_type": "code",
   "execution_count": null,
   "metadata": {},
   "outputs": [],
   "source": []
  },
  {
   "cell_type": "code",
   "execution_count": null,
   "metadata": {},
   "outputs": [],
   "source": []
  }
 ],
 "metadata": {
  "kernelspec": {
   "display_name": "Python 3",
   "language": "python",
   "name": "python3"
  },
  "language_info": {
   "codemirror_mode": {
    "name": "ipython",
    "version": 3
   },
   "file_extension": ".py",
   "mimetype": "text/x-python",
   "name": "python",
   "nbconvert_exporter": "python",
   "pygments_lexer": "ipython3",
   "version": "3.8.8"
  }
 },
 "nbformat": 4,
 "nbformat_minor": 4
}
